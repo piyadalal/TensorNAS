{
  "nbformat": 4,
  "nbformat_minor": 0,
  "metadata": {
    "colab": {
      "name": "VWWDATA.ipynb",
      "provenance": [],
      "collapsed_sections": [],
      "authorship_tag": "ABX9TyO/d1rLzbvbi7frThYohOQU",
      "include_colab_link": true
    },
    "kernelspec": {
      "name": "python3",
      "display_name": "Python 3"
    }
  },
  "cells": [
    {
      "cell_type": "markdown",
      "metadata": {
        "id": "view-in-github",
        "colab_type": "text"
      },
      "source": [
        "<a href=\"https://colab.research.google.com/github/piyadalal/TensorNAS/blob/VWW_dataset/VWWDATA.ipynb\" target=\"_parent\"><img src=\"https://colab.research.google.com/assets/colab-badge.svg\" alt=\"Open In Colab\"/></a>"
      ]
    },
    {
      "cell_type": "code",
      "metadata": {
        "id": "hqP0lxy3IwtN"
      },
      "source": [
        "! cd /content\n"
      ],
      "execution_count": null,
      "outputs": []
    },
    {
      "cell_type": "code",
      "metadata": {
        "id": "qOvZTqAfI1-6"
      },
      "source": [
        "! mkdir Project"
      ],
      "execution_count": null,
      "outputs": []
    },
    {
      "cell_type": "code",
      "metadata": {
        "id": "lMdl9OSqI4OA"
      },
      "source": [
        "! cd Project"
      ],
      "execution_count": null,
      "outputs": []
    },
    {
      "cell_type": "code",
      "metadata": {
        "colab": {
          "base_uri": "https://localhost:8080/"
        },
        "id": "GViJw4ZaI6BH",
        "outputId": "37b3a454-2977-4d0a-ee77-f2c414b71945"
      },
      "source": [
        "! git clone https://github.com/Mxbonn/visualwakewords.git"
      ],
      "execution_count": null,
      "outputs": [
        {
          "output_type": "stream",
          "text": [
            "Cloning into 'visualwakewords'...\n",
            "remote: Enumerating objects: 8, done.\u001b[K\n",
            "remote: Counting objects: 100% (8/8), done.\u001b[K\n",
            "remote: Compressing objects: 100% (7/7), done.\u001b[K\n",
            "remote: Total 79 (delta 1), reused 6 (delta 1), pack-reused 71\u001b[K\n",
            "Unpacking objects: 100% (79/79), done.\n"
          ],
          "name": "stdout"
        }
      ]
    },
    {
      "cell_type": "code",
      "metadata": {
        "colab": {
          "base_uri": "https://localhost:8080/"
        },
        "id": "tkL-g7NDI9_B",
        "outputId": "b07dfc4b-c5b2-4390-a2a5-ad1ded6135d4"
      },
      "source": [
        "! pwd"
      ],
      "execution_count": null,
      "outputs": [
        {
          "output_type": "stream",
          "text": [
            "/content\n"
          ],
          "name": "stdout"
        }
      ]
    },
    {
      "cell_type": "code",
      "metadata": {
        "colab": {
          "base_uri": "https://localhost:8080/"
        },
        "id": "HRs0G7xtJF6r",
        "outputId": "3e4f27c8-7986-405e-bacc-fb1df5089169"
      },
      "source": [
        "% cd visualwakewords/"
      ],
      "execution_count": null,
      "outputs": [
        {
          "output_type": "stream",
          "text": [
            "/content/visualwakewords\n"
          ],
          "name": "stdout"
        }
      ]
    },
    {
      "cell_type": "code",
      "metadata": {
        "colab": {
          "base_uri": "https://localhost:8080/"
        },
        "id": "KN1fsbEEJQwu",
        "outputId": "d2b2435f-41c5-4ce3-9b78-4da8490d8a72"
      },
      "source": [
        "! wget http://images.cocodataset.org/zips/train2014.zip"
      ],
      "execution_count": null,
      "outputs": [
        {
          "output_type": "stream",
          "text": [
            "--2021-02-12 12:09:15--  http://images.cocodataset.org/zips/train2014.zip\n",
            "Resolving images.cocodataset.org (images.cocodataset.org)... 52.217.36.196\n",
            "Connecting to images.cocodataset.org (images.cocodataset.org)|52.217.36.196|:80... connected.\n",
            "HTTP request sent, awaiting response... 200 OK\n",
            "Length: 13510573713 (13G) [application/zip]\n",
            "Saving to: ‘train2014.zip’\n",
            "\n",
            "train2014.zip       100%[===================>]  12.58G  34.8MB/s    in 6m 14s  \n",
            "\n",
            "2021-02-12 12:15:30 (34.4 MB/s) - ‘train2014.zip’ saved [13510573713/13510573713]\n",
            "\n"
          ],
          "name": "stdout"
        }
      ]
    },
    {
      "cell_type": "code",
      "metadata": {
        "id": "G1bv6pfBJS_S"
      },
      "source": [
        "%%capture\n",
        "!unzip train2014.zip"
      ],
      "execution_count": null,
      "outputs": []
    },
    {
      "cell_type": "code",
      "metadata": {
        "colab": {
          "base_uri": "https://localhost:8080/"
        },
        "id": "S9Ys_wnrNL6z",
        "outputId": "0c439c6b-6eb9-4d9b-f34d-24549caabc4f"
      },
      "source": [
        "! wget http://images.cocodataset.org/zips/val2014.zip"
      ],
      "execution_count": null,
      "outputs": [
        {
          "output_type": "stream",
          "text": [
            "--2021-02-12 12:40:33--  http://images.cocodataset.org/zips/val2014.zip\n",
            "Resolving images.cocodataset.org (images.cocodataset.org)... 52.216.129.243\n",
            "Connecting to images.cocodataset.org (images.cocodataset.org)|52.216.129.243|:80... connected.\n",
            "HTTP request sent, awaiting response... 200 OK\n",
            "Length: 6645013297 (6.2G) [application/zip]\n",
            "Saving to: ‘val2014.zip’\n",
            "\n",
            "val2014.zip         100%[===================>]   6.19G  34.4MB/s    in 3m 6s   \n",
            "\n",
            "2021-02-12 12:43:39 (34.1 MB/s) - ‘val2014.zip’ saved [6645013297/6645013297]\n",
            "\n"
          ],
          "name": "stdout"
        }
      ]
    },
    {
      "cell_type": "code",
      "metadata": {
        "id": "kVASB7E2QdXJ"
      },
      "source": [
        "%%capture\n",
        "!unzip val2014.zip"
      ],
      "execution_count": null,
      "outputs": []
    },
    {
      "cell_type": "code",
      "metadata": {
        "colab": {
          "base_uri": "https://localhost:8080/"
        },
        "id": "MJbaVy62Qflv",
        "outputId": "2191e401-ea05-4a5c-9896-57a732b3163c"
      },
      "source": [
        "! wget http://images.cocodataset.org/zips/test2014.zip"
      ],
      "execution_count": null,
      "outputs": [
        {
          "output_type": "stream",
          "text": [
            "--2021-02-12 12:48:38--  http://images.cocodataset.org/zips/test2014.zip\n",
            "Resolving images.cocodataset.org (images.cocodataset.org)... 52.217.40.124\n",
            "Connecting to images.cocodataset.org (images.cocodataset.org)|52.217.40.124|:80... connected.\n",
            "HTTP request sent, awaiting response... 200 OK\n",
            "Length: 6660437059 (6.2G) [application/zip]\n",
            "Saving to: ‘test2014.zip’\n",
            "\n",
            "test2014.zip        100%[===================>]   6.20G  34.4MB/s    in 3m 24s  \n",
            "\n",
            "2021-02-12 12:52:03 (31.1 MB/s) - ‘test2014.zip’ saved [6660437059/6660437059]\n",
            "\n"
          ],
          "name": "stdout"
        }
      ]
    },
    {
      "cell_type": "code",
      "metadata": {
        "id": "XpwjOuVpWkqX"
      },
      "source": [
        "%%capture\n",
        "!unzip test2014.zip"
      ],
      "execution_count": null,
      "outputs": []
    },
    {
      "cell_type": "code",
      "metadata": {
        "colab": {
          "base_uri": "https://localhost:8080/"
        },
        "id": "e_QFZRqkST0z",
        "outputId": "7b7c72a0-af54-4999-e074-5602dfbe0a54"
      },
      "source": [
        "! wget http://images.cocodataset.org/annotations/annotations_trainval2014.zip"
      ],
      "execution_count": null,
      "outputs": [
        {
          "output_type": "stream",
          "text": [
            "--2021-02-12 13:05:59--  http://images.cocodataset.org/annotations/annotations_trainval2014.zip\n",
            "Resolving images.cocodataset.org (images.cocodataset.org)... 52.216.113.219\n",
            "Connecting to images.cocodataset.org (images.cocodataset.org)|52.216.113.219|:80... connected.\n",
            "HTTP request sent, awaiting response... 200 OK\n",
            "Length: 252872794 (241M) [application/zip]\n",
            "Saving to: ‘annotations_trainval2014.zip’\n",
            "\n",
            "annotations_trainva 100%[===================>] 241.16M  34.5MB/s    in 7.7s    \n",
            "\n",
            "2021-02-12 13:06:06 (31.4 MB/s) - ‘annotations_trainval2014.zip’ saved [252872794/252872794]\n",
            "\n"
          ],
          "name": "stdout"
        }
      ]
    },
    {
      "cell_type": "code",
      "metadata": {
        "id": "0kI1WfnrWRzT"
      },
      "source": [
        "%%capture\n",
        "!unzip annotations_trainval2014.zip"
      ],
      "execution_count": null,
      "outputs": []
    },
    {
      "cell_type": "code",
      "metadata": {
        "colab": {
          "base_uri": "https://localhost:8080/"
        },
        "id": "TYnlK4x3Wyui",
        "outputId": "0bb9d449-e837-4892-c6d2-610c21fa1a6b"
      },
      "source": [
        "! pwd"
      ],
      "execution_count": null,
      "outputs": [
        {
          "output_type": "stream",
          "text": [
            "/content/visualwakewords\n"
          ],
          "name": "stdout"
        }
      ]
    },
    {
      "cell_type": "code",
      "metadata": {
        "id": "5JBjbUEkXUNU"
      },
      "source": [
        "TRAIN_ANNOTATIONS_FILE=\"/content/visualwakewords/annotations/instances_train2014.json\"\n",
        "VAL_ANNOTATIONS_FILE=\"/content/visualwakewords/annotations/instances_val2014.json\"\n",
        "DIR=\"/annotations/\"\n"
      ],
      "execution_count": null,
      "outputs": []
    },
    {
      "cell_type": "code",
      "metadata": {
        "id": "Mox_VUX0XV42"
      },
      "source": [
        "! python scripts/create_coco_train_minival_split.py \\\n",
        "  --train_annotations_file=\"/content/visualwakewords/annotations/instances_train2014.json\" \\\n",
        "  --val_annotations_file=\"/content/visualwakewords/annotations/instances_val2014.json\" \\\n",
        "  --output_dir=\"annotations_minival\""
      ],
      "execution_count": null,
      "outputs": []
    },
    {
      "cell_type": "code",
      "metadata": {
        "id": "kQWfPggUWX1q"
      },
      "source": [
        "MAXITRAIN_ANNOTATIONS_FILE=\"/content/visualwakewords/annotations_minival/instances_maxitrain.json\"\n",
        "MINIVAL_ANNOTATIONS_FILE=\"/content/visualwakewords/annotations_minival/instances_minival.json\"\n",
        "VWW_OUTPUT_DIR=\"annotations_vww\"\n"
      ],
      "execution_count": null,
      "outputs": []
    },
    {
      "cell_type": "code",
      "metadata": {
        "colab": {
          "base_uri": "https://localhost:8080/"
        },
        "id": "-X55qhWZWw6V",
        "outputId": "1d1fb409-1528-4713-a360-f416417aa334"
      },
      "source": [
        "! python scripts/create_visualwakewords_annotations.py \\\n",
        "  --train_annotations_file=\"/content/visualwakewords/annotations/instances_train2014.json\" \\\n",
        "  --val_annotations_file=\"/content/visualwakewords/annotations/instances_val2014.json\"\\\n",
        "  --output_dir=\"annotations_vww\" \\\n",
        "  --threshold=0.005 \\\n",
        "  --foreground_class='person'"
      ],
      "execution_count": null,
      "outputs": [
        {
          "output_type": "stream",
          "text": [
            "Processing /content/visualwakewords/annotations/instances_train2014.json...\n",
            "loading annotations into memory...\n",
            "Done (t=16.16s)\n",
            "creating index...\n",
            "index created!\n",
            "There are 39926 images that now have label person, of the 82783 images in total.\n",
            "Processing /content/visualwakewords/annotations/instances_val2014.json...\n",
            "loading annotations into memory...\n",
            "Done (t=8.53s)\n",
            "creating index...\n",
            "index created!\n",
            "There are 19107 images that now have label person, of the 40504 images in total.\n"
          ],
          "name": "stdout"
        }
      ]
    },
    {
      "cell_type": "code",
      "metadata": {
        "id": "-JTvHMMWZont"
      },
      "source": [
        "dataDir='/content/visualwakewords/annotations_vww'\n",
        "dataType='train'\n",
        "annFile='{}/instances_{}.json'.format(dataDir,dataType)"
      ],
      "execution_count": null,
      "outputs": []
    },
    {
      "cell_type": "code",
      "metadata": {
        "colab": {
          "base_uri": "https://localhost:8080/"
        },
        "id": "Fb1NL8g7acEN",
        "outputId": "2b246534-f24a-45dd-ef72-92a8fb68366e"
      },
      "source": [
        "! pip install pyvww"
      ],
      "execution_count": null,
      "outputs": [
        {
          "output_type": "stream",
          "text": [
            "Collecting pyvww\n",
            "  Downloading https://files.pythonhosted.org/packages/b3/ab/1bf6a32048b845bd84e445413279c36fd0716d65cbab848d3deb1abca5a2/pyvww-0.1.1-py3-none-any.whl\n",
            "Requirement already satisfied: pycocotools in /usr/local/lib/python3.6/dist-packages (from pyvww) (2.0.2)\n",
            "Requirement already satisfied: torchvision in /usr/local/lib/python3.6/dist-packages (from pyvww) (0.8.1+cu101)\n",
            "Requirement already satisfied: cython>=0.27.3 in /usr/local/lib/python3.6/dist-packages (from pycocotools->pyvww) (0.29.21)\n",
            "Requirement already satisfied: matplotlib>=2.1.0 in /usr/local/lib/python3.6/dist-packages (from pycocotools->pyvww) (3.2.2)\n",
            "Requirement already satisfied: setuptools>=18.0 in /usr/local/lib/python3.6/dist-packages (from pycocotools->pyvww) (53.0.0)\n",
            "Requirement already satisfied: pillow>=4.1.1 in /usr/local/lib/python3.6/dist-packages (from torchvision->pyvww) (7.0.0)\n",
            "Requirement already satisfied: torch==1.7.0 in /usr/local/lib/python3.6/dist-packages (from torchvision->pyvww) (1.7.0+cu101)\n",
            "Requirement already satisfied: numpy in /usr/local/lib/python3.6/dist-packages (from torchvision->pyvww) (1.19.5)\n",
            "Requirement already satisfied: cycler>=0.10 in /usr/local/lib/python3.6/dist-packages (from matplotlib>=2.1.0->pycocotools->pyvww) (0.10.0)\n",
            "Requirement already satisfied: python-dateutil>=2.1 in /usr/local/lib/python3.6/dist-packages (from matplotlib>=2.1.0->pycocotools->pyvww) (2.8.1)\n",
            "Requirement already satisfied: kiwisolver>=1.0.1 in /usr/local/lib/python3.6/dist-packages (from matplotlib>=2.1.0->pycocotools->pyvww) (1.3.1)\n",
            "Requirement already satisfied: pyparsing!=2.0.4,!=2.1.2,!=2.1.6,>=2.0.1 in /usr/local/lib/python3.6/dist-packages (from matplotlib>=2.1.0->pycocotools->pyvww) (2.4.7)\n",
            "Requirement already satisfied: dataclasses in /usr/local/lib/python3.6/dist-packages (from torch==1.7.0->torchvision->pyvww) (0.8)\n",
            "Requirement already satisfied: typing-extensions in /usr/local/lib/python3.6/dist-packages (from torch==1.7.0->torchvision->pyvww) (3.7.4.3)\n",
            "Requirement already satisfied: future in /usr/local/lib/python3.6/dist-packages (from torch==1.7.0->torchvision->pyvww) (0.16.0)\n",
            "Requirement already satisfied: six in /usr/local/lib/python3.6/dist-packages (from cycler>=0.10->matplotlib>=2.1.0->pycocotools->pyvww) (1.15.0)\n",
            "Installing collected packages: pyvww\n",
            "Successfully installed pyvww-0.1.1\n"
          ],
          "name": "stdout"
        }
      ]
    },
    {
      "cell_type": "code",
      "metadata": {
        "id": "lBHKLri0bJGm"
      },
      "source": [
        "from pyvww.utils import VisualWakeWords"
      ],
      "execution_count": null,
      "outputs": []
    },
    {
      "cell_type": "code",
      "metadata": {
        "colab": {
          "base_uri": "https://localhost:8080/"
        },
        "id": "nS6bDDdSbLZC",
        "outputId": "d5293983-38a6-4f13-82a3-13cdcd308f25"
      },
      "source": [
        "vww = VisualWakeWords(annFile)"
      ],
      "execution_count": null,
      "outputs": [
        {
          "output_type": "stream",
          "text": [
            "loading annotations into memory...\n",
            "Done (t=3.25s)\n",
            "creating index...\n",
            "index created!\n"
          ],
          "name": "stdout"
        }
      ]
    },
    {
      "cell_type": "code",
      "metadata": {
        "colab": {
          "base_uri": "https://localhost:8080/"
        },
        "id": "GzLdBD_jbNx0",
        "outputId": "6ffa210d-1c01-4f72-8a81-5c3927cd17ee"
      },
      "source": [
        "print(\"Category Id {}\".format(vww.getCatIds()))"
      ],
      "execution_count": null,
      "outputs": [
        {
          "output_type": "stream",
          "text": [
            "Category Id [0, 1]\n"
          ],
          "name": "stdout"
        }
      ]
    },
    {
      "cell_type": "code",
      "metadata": {
        "colab": {
          "base_uri": "https://localhost:8080/"
        },
        "id": "xS7lddhUbSZY",
        "outputId": "b4c51c64-8c2c-4659-cb1d-5bb374d3f810"
      },
      "source": [
        "cats = vww.loadCats(vww.getCatIds())\n",
        "\n",
        "print(\"Categories {}\".format(cats))"
      ],
      "execution_count": null,
      "outputs": [
        {
          "output_type": "stream",
          "text": [
            "Categories [{'supercategory': 'background', 'id': 0, 'name': 'not-person'}, {'supercategory': 'person', 'id': 1, 'name': 'person'}]\n"
          ],
          "name": "stdout"
        }
      ]
    },
    {
      "cell_type": "code",
      "metadata": {
        "colab": {
          "base_uri": "https://localhost:8080/"
        },
        "id": "lDgDM0bvbXqQ",
        "outputId": "ffb70109-8071-4d67-e489-471ce93d433a"
      },
      "source": [
        "nms=[cat['name'] for cat in cats]\n",
        "print('Visual Wake Words subcategories: \\n{}\\n'.format(' '.join(nms)))\n",
        "nms = set([cat['supercategory'] for cat in cats])\n",
        "print('Visual Wake Words supercategories: \\n{}'.format(' '.join(nms)))"
      ],
      "execution_count": null,
      "outputs": [
        {
          "output_type": "stream",
          "text": [
            "Visual Wake Words subcategories: \n",
            "not-person person\n",
            "\n",
            "Visual Wake Words supercategories: \n",
            "person background\n"
          ],
          "name": "stdout"
        }
      ]
    },
    {
      "cell_type": "code",
      "metadata": {
        "colab": {
          "base_uri": "https://localhost:8080/"
        },
        "id": "1h4gbhzvbaRi",
        "outputId": "86a035b2-e60b-4c1e-9596-309744cd4ec4"
      },
      "source": [
        "catIds_person = vww.getCatIds(catNms=['person'])\n",
        "print(catIds_person)"
      ],
      "execution_count": null,
      "outputs": [
        {
          "output_type": "stream",
          "text": [
            "[1]\n"
          ],
          "name": "stdout"
        }
      ]
    },
    {
      "cell_type": "code",
      "metadata": {
        "colab": {
          "base_uri": "https://localhost:8080/"
        },
        "id": "CFS5SKZbbkzJ",
        "outputId": "d76334d5-11db-40c7-d22c-bcba1e639900"
      },
      "source": [
        "catIds_non_person = vww.getCatIds(catNms=['not-person'])\n",
        "print(catIds_non_person)"
      ],
      "execution_count": null,
      "outputs": [
        {
          "output_type": "stream",
          "text": [
            "[0]\n"
          ],
          "name": "stdout"
        }
      ]
    },
    {
      "cell_type": "code",
      "metadata": {
        "colab": {
          "base_uri": "https://localhost:8080/"
        },
        "id": "sR--b-a0b7l3",
        "outputId": "662ea2e4-7d07-4a9e-8203-28deaa1a5c42"
      },
      "source": [
        "imgIds_person= vww.getImgIds(catIds=catIds_person)\n",
        "print(len(imgIds_person))"
      ],
      "execution_count": null,
      "outputs": [
        {
          "output_type": "stream",
          "text": [
            "39926\n"
          ],
          "name": "stdout"
        }
      ]
    },
    {
      "cell_type": "code",
      "metadata": {
        "colab": {
          "base_uri": "https://localhost:8080/"
        },
        "id": "tZUEuZq4cDOi",
        "outputId": "1319b8ff-ca0e-4de3-fae3-908ab6bd878f"
      },
      "source": [
        "imgIds_non_person= vww.getImgIds(catIds=0)\n",
        "print(len(imgIds_non_person))"
      ],
      "execution_count": null,
      "outputs": [
        {
          "output_type": "stream",
          "text": [
            "0\n"
          ],
          "name": "stdout"
        }
      ]
    },
    {
      "cell_type": "code",
      "metadata": {
        "id": "8b5bqplqcLif"
      },
      "source": [
        "from pycocotools.coco import COCO"
      ],
      "execution_count": null,
      "outputs": []
    },
    {
      "cell_type": "code",
      "metadata": {
        "colab": {
          "base_uri": "https://localhost:8080/"
        },
        "id": "jpC1tFE7i2Jz",
        "outputId": "3a3209fb-2b17-457a-8b05-aba60bcc3f60"
      },
      "source": [
        "! pwd"
      ],
      "execution_count": null,
      "outputs": [
        {
          "output_type": "stream",
          "text": [
            "/content/visualwakewords\n"
          ],
          "name": "stdout"
        }
      ]
    },
    {
      "cell_type": "code",
      "metadata": {
        "colab": {
          "base_uri": "https://localhost:8080/"
        },
        "id": "uwsm0rWTi4Db",
        "outputId": "9c82afff-3005-4501-9fb7-c84dab0b3456"
      },
      "source": [
        "! wget http://images.cocodataset.org/annotations/annotations_trainval2014.zip"
      ],
      "execution_count": null,
      "outputs": [
        {
          "output_type": "stream",
          "text": [
            "--2021-02-12 14:01:07--  http://images.cocodataset.org/annotations/annotations_trainval2017.zip\n",
            "Resolving images.cocodataset.org (images.cocodataset.org)... 52.216.99.19\n",
            "Connecting to images.cocodataset.org (images.cocodataset.org)|52.216.99.19|:80... connected.\n",
            "HTTP request sent, awaiting response... 200 OK\n",
            "Length: 252907541 (241M) [application/zip]\n",
            "Saving to: ‘annotations_trainval2017.zip’\n",
            "\n",
            "annotations_trainva 100%[===================>] 241.19M  34.2MB/s    in 7.7s    \n",
            "\n",
            "2021-02-12 14:01:15 (31.3 MB/s) - ‘annotations_trainval2017.zip’ saved [252907541/252907541]\n",
            "\n"
          ],
          "name": "stdout"
        }
      ]
    },
    {
      "cell_type": "code",
      "metadata": {
        "id": "-RJ8QGixi7JX"
      },
      "source": [
        "%%capture\n",
        "!unzip annotations_trainval2017.zip\n"
      ],
      "execution_count": null,
      "outputs": []
    },
    {
      "cell_type": "code",
      "metadata": {
        "id": "6PcyKsNWdK9k"
      },
      "source": [
        "dataDir='/content/visualwakewords/annotations'\n",
        "dataType='train2014'\n",
        "annFile='{}/instances_{}.json'.format(dataDir,dataType)"
      ],
      "execution_count": null,
      "outputs": []
    },
    {
      "cell_type": "code",
      "metadata": {
        "colab": {
          "base_uri": "https://localhost:8080/"
        },
        "id": "Wl5LUlDidcy8",
        "outputId": "24de01e8-94f8-4492-c067-4c2b186a20b4"
      },
      "source": [
        "coco = COCO(annFile)"
      ],
      "execution_count": null,
      "outputs": [
        {
          "output_type": "stream",
          "text": [
            "loading annotations into memory...\n",
            "Done (t=16.17s)\n",
            "creating index...\n",
            "index created!\n"
          ],
          "name": "stdout"
        }
      ]
    },
    {
      "cell_type": "code",
      "metadata": {
        "colab": {
          "base_uri": "https://localhost:8080/"
        },
        "id": "fIioQKwndfUc",
        "outputId": "ab9724df-8fc9-4012-cc33-5158647dedec"
      },
      "source": [
        "\n",
        "print(\"Category Id {}\".format(coco.getCatIds()))"
      ],
      "execution_count": null,
      "outputs": [
        {
          "output_type": "stream",
          "text": [
            "Category Id [1, 2, 3, 4, 5, 6, 7, 8, 9, 10, 11, 13, 14, 15, 16, 17, 18, 19, 20, 21, 22, 23, 24, 25, 27, 28, 31, 32, 33, 34, 35, 36, 37, 38, 39, 40, 41, 42, 43, 44, 46, 47, 48, 49, 50, 51, 52, 53, 54, 55, 56, 57, 58, 59, 60, 61, 62, 63, 64, 65, 67, 70, 72, 73, 74, 75, 76, 77, 78, 79, 80, 81, 82, 84, 85, 86, 87, 88, 89, 90]\n"
          ],
          "name": "stdout"
        }
      ]
    },
    {
      "cell_type": "code",
      "metadata": {
        "id": "BDuzgoDSdpXU"
      },
      "source": [
        "cats = coco.loadCats(coco.getCatIds())"
      ],
      "execution_count": null,
      "outputs": []
    },
    {
      "cell_type": "code",
      "metadata": {
        "colab": {
          "base_uri": "https://localhost:8080/"
        },
        "id": "e5yoBJ8NdrcO",
        "outputId": "93599497-ecb2-4b9d-e1fc-9dde76505be6"
      },
      "source": [
        "cat_nms=[cat['name'] for cat in cats]\n",
        "print('COCO categories: \\n{}\\n'.format(' '.join(cat_nms)))\n",
        "\n",
        "supercat_nms = set([cat['supercategory'] for cat in cats])\n",
        "print('COCO supercategories: \\n{}'.format(' '.join(supercat_nms)))"
      ],
      "execution_count": null,
      "outputs": [
        {
          "output_type": "stream",
          "text": [
            "COCO categories: \n",
            "person bicycle car motorcycle airplane bus train truck boat traffic light fire hydrant stop sign parking meter bench bird cat dog horse sheep cow elephant bear zebra giraffe backpack umbrella handbag tie suitcase frisbee skis snowboard sports ball kite baseball bat baseball glove skateboard surfboard tennis racket bottle wine glass cup fork knife spoon bowl banana apple sandwich orange broccoli carrot hot dog pizza donut cake chair couch potted plant bed dining table toilet tv laptop mouse remote keyboard cell phone microwave oven toaster sink refrigerator book clock vase scissors teddy bear hair drier toothbrush\n",
            "\n",
            "COCO supercategories: \n",
            "food appliance vehicle person animal electronic indoor accessory sports outdoor kitchen furniture\n"
          ],
          "name": "stdout"
        }
      ]
    },
    {
      "cell_type": "code",
      "metadata": {
        "colab": {
          "base_uri": "https://localhost:8080/"
        },
        "id": "p_zE1l48d-1m",
        "outputId": "1c0b3ccf-54e4-4501-fe96-9d348bd08e45"
      },
      "source": [
        "catIds=coco.getCatIds(catNms=cat_nms)\n",
        "print(catIds)\n",
        "imgIds_coco= coco.getImgIds(catIds=catIds)\n",
        "print(imgIds_coco)"
      ],
      "execution_count": null,
      "outputs": [
        {
          "output_type": "stream",
          "text": [
            "[1, 2, 3, 4, 5, 6, 7, 8, 9, 10, 11, 13, 14, 15, 16, 17, 18, 19, 20, 21, 22, 23, 24, 25, 27, 28, 31, 32, 33, 34, 35, 36, 37, 38, 39, 40, 41, 42, 43, 44, 46, 47, 48, 49, 50, 51, 52, 53, 54, 55, 56, 57, 58, 59, 60, 61, 62, 63, 64, 65, 67, 70, 72, 73, 74, 75, 76, 77, 78, 79, 80, 81, 82, 84, 85, 86, 87, 88, 89, 90]\n",
            "[]\n"
          ],
          "name": "stdout"
        }
      ]
    },
    {
      "cell_type": "code",
      "metadata": {
        "colab": {
          "base_uri": "https://localhost:8080/"
        },
        "id": "13r3mcaveStP",
        "outputId": "bee2eb2b-1bed-47a4-e4bb-cd8e67352cb2"
      },
      "source": [
        "print(\"Image_ids_all {}\".format(imgIds_coco))"
      ],
      "execution_count": null,
      "outputs": [
        {
          "output_type": "stream",
          "text": [
            "Image_ids_all []\n"
          ],
          "name": "stdout"
        }
      ]
    },
    {
      "cell_type": "code",
      "metadata": {
        "id": "-zIzFIjDeZlN"
      },
      "source": [
        "imgIds=[]\n",
        "for ids in catIds:\n",
        "  imgIds.extend(coco.getImgIds(catIds=ids))"
      ],
      "execution_count": null,
      "outputs": []
    },
    {
      "cell_type": "code",
      "metadata": {
        "colab": {
          "base_uri": "https://localhost:8080/"
        },
        "id": "gVzuYySC9BEX",
        "outputId": "f37c3dd2-d01d-41eb-c5cb-0dd9de5dc975"
      },
      "source": [
        "len(imgIds)"
      ],
      "execution_count": null,
      "outputs": [
        {
          "output_type": "execute_result",
          "data": {
            "text/plain": [
              "241035"
            ]
          },
          "metadata": {
            "tags": []
          },
          "execution_count": 130
        }
      ]
    },
    {
      "cell_type": "code",
      "metadata": {
        "colab": {
          "base_uri": "https://localhost:8080/"
        },
        "id": "XP7Q8Dy--xBN",
        "outputId": "a3a10cbb-c6c5-4f46-b2c9-8c43d6459e30"
      },
      "source": [
        "for imgid in imgIds_person:\n",
        "  if imgid in imgIds:\n",
        "    imgIds.remove(imgid)\n",
        "len(imgIds)\n",
        "    "
      ],
      "execution_count": null,
      "outputs": [
        {
          "output_type": "execute_result",
          "data": {
            "text/plain": [
              "201109"
            ]
          },
          "metadata": {
            "tags": []
          },
          "execution_count": 141
        }
      ]
    },
    {
      "cell_type": "code",
      "metadata": {
        "id": "TWEPCdGoEUdX"
      },
      "source": [
        "Images=[]\n",
        "cat_id=[]\n",
        "Annotations=[]"
      ],
      "execution_count": null,
      "outputs": []
    },
    {
      "cell_type": "code",
      "metadata": {
        "id": "cFy8yzXW-2PP"
      },
      "source": [
        "for imgId in imgIds:\n",
        "  Annotations.append(coco.loadAnns(coco.getAnnIds(imgId)))\n",
        "  Images.append(coco.loadImgs(imgId))"
      ],
      "execution_count": null,
      "outputs": []
    },
    {
      "cell_type": "code",
      "metadata": {
        "colab": {
          "base_uri": "https://localhost:8080/"
        },
        "id": "ERmq5Jz0FmhQ",
        "outputId": "1f5a041e-bf3d-463c-ccd1-b208dc1ecfd4"
      },
      "source": [
        "len(Annotations)\n"
      ],
      "execution_count": null,
      "outputs": [
        {
          "output_type": "execute_result",
          "data": {
            "text/plain": [
              "201109"
            ]
          },
          "metadata": {
            "tags": []
          },
          "execution_count": 168
        }
      ]
    },
    {
      "cell_type": "code",
      "metadata": {
        "colab": {
          "base_uri": "https://localhost:8080/"
        },
        "id": "lIUQHqecCCeR",
        "outputId": "54e13cf4-2cbe-4339-b665-25f09c31ef32"
      },
      "source": [
        "len(Images)"
      ],
      "execution_count": null,
      "outputs": [
        {
          "output_type": "execute_result",
          "data": {
            "text/plain": [
              "201109"
            ]
          },
          "metadata": {
            "tags": []
          },
          "execution_count": 150
        }
      ]
    },
    {
      "cell_type": "code",
      "metadata": {
        "id": "pPQmp8Y7Ipko"
      },
      "source": [
        "def load_Anns(imgIds):\n",
        "  new_ann_id = 0\n",
        "  annotations = []\n",
        "  negative_img_ids = set()\n",
        "  for img_id in imgIds:\n",
        "          img = coco.imgs[img_id]\n",
        "          img_area = img['height'] * img['width']\n",
        "          for ann_id in coco.getAnnIds(imgIds=img_id, catIds=1\n",
        "        ):\n",
        "              ann = coco.anns[ann_id]\n",
        "              if 'area' in ann:\n",
        "                normalized_ann_area = ann['area'] / img_area\n",
        "                if normalized_ann_area < 0.005:\n",
        "                  new_ann = {\n",
        "                        \"id\": new_ann_id,\n",
        "                        \"image_id\": img_id,\n",
        "                   \n",
        "                        \"category_id\": 0,\n",
        "                        \"area\": ann[\"area\"],\n",
        "                        \"bbox\": ann[\"bbox\"],\n",
        "                        \"iscrowd\": ann[\"iscrowd\"],\n",
        "                        \"segmentation\": ann[\"segmentation\"],\n",
        "                    }\n",
        "                  annotations.append(new_ann)\n",
        "                  negative_img_ids.add(img_id)\n",
        "                  new_ann_id += 1\n",
        "  return annotations\n",
        "  "
      ],
      "execution_count": null,
      "outputs": []
    },
    {
      "cell_type": "code",
      "metadata": {
        "id": "SC9kktKnKfi6"
      },
      "source": [
        "ann=load_Anns(imgIds)"
      ],
      "execution_count": null,
      "outputs": []
    },
    {
      "cell_type": "code",
      "metadata": {
        "colab": {
          "base_uri": "https://localhost:8080/"
        },
        "id": "6lalBxdDJ3J9",
        "outputId": "dc2bac65-498c-4a67-f15c-4cad4cc38553"
      },
      "source": [
        "len(ann)"
      ],
      "execution_count": null,
      "outputs": [
        {
          "output_type": "execute_result",
          "data": {
            "text/plain": [
              "236402"
            ]
          },
          "metadata": {
            "tags": []
          },
          "execution_count": 186
        }
      ]
    },
    {
      "cell_type": "code",
      "metadata": {
        "id": "Fd0PnEBeMsah"
      },
      "source": [
        "img_id_non_person=[]\n",
        "for a in ann:\n",
        "  img_id_non_person.append(a['image_id'])"
      ],
      "execution_count": null,
      "outputs": []
    },
    {
      "cell_type": "code",
      "metadata": {
        "colab": {
          "base_uri": "https://localhost:8080/"
        },
        "id": "Nkbv3ZThNOg6",
        "outputId": "fc856e4e-bd7a-4192-973c-2733c934460c"
      },
      "source": [
        "len(img_id_non_person)"
      ],
      "execution_count": null,
      "outputs": [
        {
          "output_type": "execute_result",
          "data": {
            "text/plain": [
              "236402"
            ]
          },
          "metadata": {
            "tags": []
          },
          "execution_count": 192
        }
      ]
    },
    {
      "cell_type": "code",
      "metadata": {
        "id": "2kxdDPmELnTw"
      },
      "source": [
        "for imgId in img_id_non_person:\n",
        "  Images.append(coco.loadImgs(imgId))"
      ],
      "execution_count": null,
      "outputs": []
    },
    {
      "cell_type": "code",
      "metadata": {
        "colab": {
          "base_uri": "https://localhost:8080/"
        },
        "id": "TCurTvQxNdl_",
        "outputId": "84c14f14-2a49-4f1f-ae8c-92a5e5211a70"
      },
      "source": [
        "len(Images)"
      ],
      "execution_count": null,
      "outputs": [
        {
          "output_type": "execute_result",
          "data": {
            "text/plain": [
              "673913"
            ]
          },
          "metadata": {
            "tags": []
          },
          "execution_count": 197
        }
      ]
    },
    {
      "cell_type": "code",
      "metadata": {
        "colab": {
          "base_uri": "https://localhost:8080/"
        },
        "id": "h8m-uzGeH7a4",
        "outputId": "049bc230-0f38-4814-e1f2-ef9d20c8c91b"
      },
      "source": [
        "Annotations[0]\n",
        "Images[0:3]"
      ],
      "execution_count": null,
      "outputs": [
        {
          "output_type": "execute_result",
          "data": {
            "text/plain": [
              "[[{'coco_url': 'http://images.cocodataset.org/train2014/COCO_train2014_000000000061.jpg',\n",
              "   'date_captured': '2013-11-18 04:08:26',\n",
              "   'file_name': 'COCO_train2014_000000000061.jpg',\n",
              "   'flickr_url': 'http://farm4.staticflickr.com/3739/8999568023_fd8a9f3cb9_z.jpg',\n",
              "   'height': 488,\n",
              "   'id': 61,\n",
              "   'license': 1,\n",
              "   'width': 640}],\n",
              " [{'coco_url': 'http://images.cocodataset.org/train2014/COCO_train2014_000000524366.jpg',\n",
              "   'date_captured': '2013-11-15 14:27:47',\n",
              "   'file_name': 'COCO_train2014_000000524366.jpg',\n",
              "   'flickr_url': 'http://farm4.staticflickr.com/3294/2462893169_72e2ab7eb0_z.jpg',\n",
              "   'height': 427,\n",
              "   'id': 524366,\n",
              "   'license': 1,\n",
              "   'width': 640}],\n",
              " [{'coco_url': 'http://images.cocodataset.org/train2014/COCO_train2014_000000524375.jpg',\n",
              "   'date_captured': '2013-11-16 20:11:21',\n",
              "   'file_name': 'COCO_train2014_000000524375.jpg',\n",
              "   'flickr_url': 'http://farm6.staticflickr.com/5526/9480254041_2064328fdc_z.jpg',\n",
              "   'height': 480,\n",
              "   'id': 524375,\n",
              "   'license': 4,\n",
              "   'width': 640}]]"
            ]
          },
          "metadata": {
            "tags": []
          },
          "execution_count": 208
        }
      ]
    },
    {
      "cell_type": "code",
      "metadata": {
        "id": "GUzClOm6EXQV"
      },
      "source": [
        "Images_NonPerson=[]\n",
        "for img in Images:\n",
        "  for imgId in img_id_non_person:   \n",
        "    if img[0]['id']==imgId:\n",
        "      Images_NonPerson.append(Images)"
      ],
      "execution_count": null,
      "outputs": []
    },
    {
      "cell_type": "code",
      "metadata": {
        "id": "ISgsCcWpEdVH"
      },
      "source": [
        "len(Images_NonPerson)\n",
        "Links=[]"
      ],
      "execution_count": null,
      "outputs": []
    },
    {
      "cell_type": "code",
      "metadata": {
        "id": "o-ZE1blDEZoh"
      },
      "source": [
        "for i in range(len(Images)):\n",
        "  Links.append(Images[i][0]['coco_url'])"
      ],
      "execution_count": null,
      "outputs": []
    },
    {
      "cell_type": "code",
      "metadata": {
        "colab": {
          "base_uri": "https://localhost:8080/",
          "height": 35
        },
        "id": "b_E4QY90ElxD",
        "outputId": "cebe5fe0-0846-4bcc-d6b6-f304f812696b"
      },
      "source": [
        "Links[0]"
      ],
      "execution_count": null,
      "outputs": [
        {
          "output_type": "execute_result",
          "data": {
            "application/vnd.google.colaboratory.intrinsic+json": {
              "type": "string"
            },
            "text/plain": [
              "'http://images.cocodataset.org/train2014/COCO_train2014_000000000061.jpg'"
            ]
          },
          "metadata": {
            "tags": []
          },
          "execution_count": 170
        }
      ]
    },
    {
      "cell_type": "code",
      "metadata": {
        "id": "CB1C4aW2FYvK"
      },
      "source": [
        ""
      ],
      "execution_count": null,
      "outputs": []
    }
  ]
}