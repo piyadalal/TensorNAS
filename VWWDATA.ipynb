{
  "nbformat": 4,
  "nbformat_minor": 0,
  "metadata": {
    "colab": {
      "name": "VWWDATA.ipynb",
      "provenance": [],
      "collapsed_sections": [],
      "authorship_tag": "ABX9TyMEefIXisyqurIYCKqnuq84",
      "include_colab_link": true
    },
    "kernelspec": {
      "name": "python3",
      "display_name": "Python 3"
    }
  },
  "cells": [
    {
      "cell_type": "markdown",
      "metadata": {
        "id": "view-in-github",
        "colab_type": "text"
      },
      "source": [
        "<a href=\"https://colab.research.google.com/github/piyadalal/TensorNAS/blob/VWW_dataset/VWWDATA.ipynb\" target=\"_parent\"><img src=\"https://colab.research.google.com/assets/colab-badge.svg\" alt=\"Open In Colab\"/></a>"
      ]
    },
    {
      "cell_type": "code",
      "metadata": {
        "id": "hqP0lxy3IwtN"
      },
      "source": [
        "! cd /content\n"
      ],
      "execution_count": 1,
      "outputs": []
    },
    {
      "cell_type": "code",
      "metadata": {
        "id": "qOvZTqAfI1-6"
      },
      "source": [
        "! mkdir Project"
      ],
      "execution_count": 2,
      "outputs": []
    },
    {
      "cell_type": "code",
      "metadata": {
        "id": "lMdl9OSqI4OA"
      },
      "source": [
        "! cd Project"
      ],
      "execution_count": 3,
      "outputs": []
    },
    {
      "cell_type": "code",
      "metadata": {
        "colab": {
          "base_uri": "https://localhost:8080/"
        },
        "id": "GViJw4ZaI6BH",
        "outputId": "37b3a454-2977-4d0a-ee77-f2c414b71945"
      },
      "source": [
        "! git clone https://github.com/Mxbonn/visualwakewords.git"
      ],
      "execution_count": 4,
      "outputs": [
        {
          "output_type": "stream",
          "text": [
            "Cloning into 'visualwakewords'...\n",
            "remote: Enumerating objects: 8, done.\u001b[K\n",
            "remote: Counting objects: 100% (8/8), done.\u001b[K\n",
            "remote: Compressing objects: 100% (7/7), done.\u001b[K\n",
            "remote: Total 79 (delta 1), reused 6 (delta 1), pack-reused 71\u001b[K\n",
            "Unpacking objects: 100% (79/79), done.\n"
          ],
          "name": "stdout"
        }
      ]
    },
    {
      "cell_type": "code",
      "metadata": {
        "colab": {
          "base_uri": "https://localhost:8080/"
        },
        "id": "tkL-g7NDI9_B",
        "outputId": "b07dfc4b-c5b2-4390-a2a5-ad1ded6135d4"
      },
      "source": [
        "! pwd"
      ],
      "execution_count": 5,
      "outputs": [
        {
          "output_type": "stream",
          "text": [
            "/content\n"
          ],
          "name": "stdout"
        }
      ]
    },
    {
      "cell_type": "code",
      "metadata": {
        "colab": {
          "base_uri": "https://localhost:8080/"
        },
        "id": "HRs0G7xtJF6r",
        "outputId": "3e4f27c8-7986-405e-bacc-fb1df5089169"
      },
      "source": [
        "% cd visualwakewords/"
      ],
      "execution_count": 6,
      "outputs": [
        {
          "output_type": "stream",
          "text": [
            "/content/visualwakewords\n"
          ],
          "name": "stdout"
        }
      ]
    },
    {
      "cell_type": "code",
      "metadata": {
        "colab": {
          "base_uri": "https://localhost:8080/"
        },
        "id": "KN1fsbEEJQwu",
        "outputId": "d2b2435f-41c5-4ce3-9b78-4da8490d8a72"
      },
      "source": [
        "! wget http://images.cocodataset.org/zips/train2014.zip"
      ],
      "execution_count": 7,
      "outputs": [
        {
          "output_type": "stream",
          "text": [
            "--2021-02-12 12:09:15--  http://images.cocodataset.org/zips/train2014.zip\n",
            "Resolving images.cocodataset.org (images.cocodataset.org)... 52.217.36.196\n",
            "Connecting to images.cocodataset.org (images.cocodataset.org)|52.217.36.196|:80... connected.\n",
            "HTTP request sent, awaiting response... 200 OK\n",
            "Length: 13510573713 (13G) [application/zip]\n",
            "Saving to: ‘train2014.zip’\n",
            "\n",
            "train2014.zip       100%[===================>]  12.58G  34.8MB/s    in 6m 14s  \n",
            "\n",
            "2021-02-12 12:15:30 (34.4 MB/s) - ‘train2014.zip’ saved [13510573713/13510573713]\n",
            "\n"
          ],
          "name": "stdout"
        }
      ]
    },
    {
      "cell_type": "code",
      "metadata": {
        "id": "G1bv6pfBJS_S"
      },
      "source": [
        "%%capture\n",
        "!unzip train2014.zip"
      ],
      "execution_count": 10,
      "outputs": []
    },
    {
      "cell_type": "code",
      "metadata": {
        "colab": {
          "base_uri": "https://localhost:8080/"
        },
        "id": "S9Ys_wnrNL6z",
        "outputId": "0c439c6b-6eb9-4d9b-f34d-24549caabc4f"
      },
      "source": [
        "! wget http://images.cocodataset.org/zips/val2014.zip"
      ],
      "execution_count": 11,
      "outputs": [
        {
          "output_type": "stream",
          "text": [
            "--2021-02-12 12:40:33--  http://images.cocodataset.org/zips/val2014.zip\n",
            "Resolving images.cocodataset.org (images.cocodataset.org)... 52.216.129.243\n",
            "Connecting to images.cocodataset.org (images.cocodataset.org)|52.216.129.243|:80... connected.\n",
            "HTTP request sent, awaiting response... 200 OK\n",
            "Length: 6645013297 (6.2G) [application/zip]\n",
            "Saving to: ‘val2014.zip’\n",
            "\n",
            "val2014.zip         100%[===================>]   6.19G  34.4MB/s    in 3m 6s   \n",
            "\n",
            "2021-02-12 12:43:39 (34.1 MB/s) - ‘val2014.zip’ saved [6645013297/6645013297]\n",
            "\n"
          ],
          "name": "stdout"
        }
      ]
    },
    {
      "cell_type": "code",
      "metadata": {
        "id": "kVASB7E2QdXJ"
      },
      "source": [
        "%%capture\n",
        "!unzip val2014.zip"
      ],
      "execution_count": 12,
      "outputs": []
    },
    {
      "cell_type": "code",
      "metadata": {
        "colab": {
          "base_uri": "https://localhost:8080/"
        },
        "id": "MJbaVy62Qflv",
        "outputId": "2191e401-ea05-4a5c-9896-57a732b3163c"
      },
      "source": [
        "! wget http://images.cocodataset.org/zips/test2014.zip"
      ],
      "execution_count": 13,
      "outputs": [
        {
          "output_type": "stream",
          "text": [
            "--2021-02-12 12:48:38--  http://images.cocodataset.org/zips/test2014.zip\n",
            "Resolving images.cocodataset.org (images.cocodataset.org)... 52.217.40.124\n",
            "Connecting to images.cocodataset.org (images.cocodataset.org)|52.217.40.124|:80... connected.\n",
            "HTTP request sent, awaiting response... 200 OK\n",
            "Length: 6660437059 (6.2G) [application/zip]\n",
            "Saving to: ‘test2014.zip’\n",
            "\n",
            "test2014.zip        100%[===================>]   6.20G  34.4MB/s    in 3m 24s  \n",
            "\n",
            "2021-02-12 12:52:03 (31.1 MB/s) - ‘test2014.zip’ saved [6660437059/6660437059]\n",
            "\n"
          ],
          "name": "stdout"
        }
      ]
    },
    {
      "cell_type": "code",
      "metadata": {
        "id": "XpwjOuVpWkqX"
      },
      "source": [
        "%%capture\n",
        "!unzip test2014.zip"
      ],
      "execution_count": 16,
      "outputs": []
    },
    {
      "cell_type": "code",
      "metadata": {
        "colab": {
          "base_uri": "https://localhost:8080/"
        },
        "id": "e_QFZRqkST0z",
        "outputId": "7b7c72a0-af54-4999-e074-5602dfbe0a54"
      },
      "source": [
        "! wget http://images.cocodataset.org/annotations/annotations_trainval2014.zip"
      ],
      "execution_count": 14,
      "outputs": [
        {
          "output_type": "stream",
          "text": [
            "--2021-02-12 13:05:59--  http://images.cocodataset.org/annotations/annotations_trainval2014.zip\n",
            "Resolving images.cocodataset.org (images.cocodataset.org)... 52.216.113.219\n",
            "Connecting to images.cocodataset.org (images.cocodataset.org)|52.216.113.219|:80... connected.\n",
            "HTTP request sent, awaiting response... 200 OK\n",
            "Length: 252872794 (241M) [application/zip]\n",
            "Saving to: ‘annotations_trainval2014.zip’\n",
            "\n",
            "annotations_trainva 100%[===================>] 241.16M  34.5MB/s    in 7.7s    \n",
            "\n",
            "2021-02-12 13:06:06 (31.4 MB/s) - ‘annotations_trainval2014.zip’ saved [252872794/252872794]\n",
            "\n"
          ],
          "name": "stdout"
        }
      ]
    },
    {
      "cell_type": "code",
      "metadata": {
        "id": "0kI1WfnrWRzT"
      },
      "source": [
        "%%capture\n",
        "!unzip annotations_trainval2014.zip"
      ],
      "execution_count": 15,
      "outputs": []
    },
    {
      "cell_type": "code",
      "metadata": {
        "colab": {
          "base_uri": "https://localhost:8080/"
        },
        "id": "TYnlK4x3Wyui",
        "outputId": "0bb9d449-e837-4892-c6d2-610c21fa1a6b"
      },
      "source": [
        "! pwd"
      ],
      "execution_count": 17,
      "outputs": [
        {
          "output_type": "stream",
          "text": [
            "/content/visualwakewords\n"
          ],
          "name": "stdout"
        }
      ]
    },
    {
      "cell_type": "code",
      "metadata": {
        "id": "5JBjbUEkXUNU"
      },
      "source": [
        "TRAIN_ANNOTATIONS_FILE=\"/content/visualwakewords/annotations/instances_train2014.json\"\n",
        "VAL_ANNOTATIONS_FILE=\"/content/visualwakewords/annotations/instances_val2014.json\"\n",
        "DIR=\"/annotations/\"\n"
      ],
      "execution_count": 24,
      "outputs": []
    },
    {
      "cell_type": "code",
      "metadata": {
        "id": "Mox_VUX0XV42"
      },
      "source": [
        "! python scripts/create_coco_train_minival_split.py \\\n",
        "  --train_annotations_file=\"/content/visualwakewords/annotations/instances_train2014.json\" \\\n",
        "  --val_annotations_file=\"/content/visualwakewords/annotations/instances_val2014.json\" \\\n",
        "  --output_dir=\"annotations_minival\""
      ],
      "execution_count": 28,
      "outputs": []
    },
    {
      "cell_type": "code",
      "metadata": {
        "id": "kQWfPggUWX1q"
      },
      "source": [
        "MAXITRAIN_ANNOTATIONS_FILE=\"/content/visualwakewords/annotations_minival/instances_maxitrain.json\"\n",
        "MINIVAL_ANNOTATIONS_FILE=\"/content/visualwakewords/annotations_minival/instances_minival.json\"\n",
        "VWW_OUTPUT_DIR=\"annotations_vww\"\n"
      ],
      "execution_count": 29,
      "outputs": []
    },
    {
      "cell_type": "code",
      "metadata": {
        "colab": {
          "base_uri": "https://localhost:8080/"
        },
        "id": "-X55qhWZWw6V",
        "outputId": "a31aca24-2c80-4937-ec88-490d816b1cca"
      },
      "source": [
        "! python scripts/create_visualwakewords_annotations.py \\\n",
        "  --train_annotations_file=\"/content/visualwakewords/annotations_minival/instances_maxitrain.json\" \\\n",
        "  --val_annotations_file=\"/content/visualwakewords/annotations_minival/instances_maxitrain.json\"\\\n",
        "  --output_dir=\"annotations_vww\" \\\n",
        "  --threshold=0.005 \\\n",
        "  --foreground_class='person'"
      ],
      "execution_count": 31,
      "outputs": [
        {
          "output_type": "stream",
          "text": [
            "Processing /content/visualwakewords/annotations_minival/instances_maxitrain.json...\n",
            "loading annotations into memory...\n",
            "Done (t=19.19s)\n",
            "creating index...\n",
            "index created!\n",
            "There are 55233 images that now have label person, of the 115228 images in total.\n",
            "Processing /content/visualwakewords/annotations_minival/instances_maxitrain.json...\n",
            "loading annotations into memory...\n",
            "Done (t=17.70s)\n",
            "creating index...\n",
            "index created!\n",
            "There are 55233 images that now have label person, of the 115228 images in total.\n"
          ],
          "name": "stdout"
        }
      ]
    },
    {
      "cell_type": "code",
      "metadata": {
        "id": "-JTvHMMWZont"
      },
      "source": [
        "dataDir='/content/visualwakewords/annotations_vww'\n",
        "dataType='train'\n",
        "annFile='{}/instances_{}.json'.format(dataDir,dataType)"
      ],
      "execution_count": 32,
      "outputs": []
    },
    {
      "cell_type": "code",
      "metadata": {
        "colab": {
          "base_uri": "https://localhost:8080/"
        },
        "id": "Fb1NL8g7acEN",
        "outputId": "2b246534-f24a-45dd-ef72-92a8fb68366e"
      },
      "source": [
        "! pip install pyvww"
      ],
      "execution_count": 33,
      "outputs": [
        {
          "output_type": "stream",
          "text": [
            "Collecting pyvww\n",
            "  Downloading https://files.pythonhosted.org/packages/b3/ab/1bf6a32048b845bd84e445413279c36fd0716d65cbab848d3deb1abca5a2/pyvww-0.1.1-py3-none-any.whl\n",
            "Requirement already satisfied: pycocotools in /usr/local/lib/python3.6/dist-packages (from pyvww) (2.0.2)\n",
            "Requirement already satisfied: torchvision in /usr/local/lib/python3.6/dist-packages (from pyvww) (0.8.1+cu101)\n",
            "Requirement already satisfied: cython>=0.27.3 in /usr/local/lib/python3.6/dist-packages (from pycocotools->pyvww) (0.29.21)\n",
            "Requirement already satisfied: matplotlib>=2.1.0 in /usr/local/lib/python3.6/dist-packages (from pycocotools->pyvww) (3.2.2)\n",
            "Requirement already satisfied: setuptools>=18.0 in /usr/local/lib/python3.6/dist-packages (from pycocotools->pyvww) (53.0.0)\n",
            "Requirement already satisfied: pillow>=4.1.1 in /usr/local/lib/python3.6/dist-packages (from torchvision->pyvww) (7.0.0)\n",
            "Requirement already satisfied: torch==1.7.0 in /usr/local/lib/python3.6/dist-packages (from torchvision->pyvww) (1.7.0+cu101)\n",
            "Requirement already satisfied: numpy in /usr/local/lib/python3.6/dist-packages (from torchvision->pyvww) (1.19.5)\n",
            "Requirement already satisfied: cycler>=0.10 in /usr/local/lib/python3.6/dist-packages (from matplotlib>=2.1.0->pycocotools->pyvww) (0.10.0)\n",
            "Requirement already satisfied: python-dateutil>=2.1 in /usr/local/lib/python3.6/dist-packages (from matplotlib>=2.1.0->pycocotools->pyvww) (2.8.1)\n",
            "Requirement already satisfied: kiwisolver>=1.0.1 in /usr/local/lib/python3.6/dist-packages (from matplotlib>=2.1.0->pycocotools->pyvww) (1.3.1)\n",
            "Requirement already satisfied: pyparsing!=2.0.4,!=2.1.2,!=2.1.6,>=2.0.1 in /usr/local/lib/python3.6/dist-packages (from matplotlib>=2.1.0->pycocotools->pyvww) (2.4.7)\n",
            "Requirement already satisfied: dataclasses in /usr/local/lib/python3.6/dist-packages (from torch==1.7.0->torchvision->pyvww) (0.8)\n",
            "Requirement already satisfied: typing-extensions in /usr/local/lib/python3.6/dist-packages (from torch==1.7.0->torchvision->pyvww) (3.7.4.3)\n",
            "Requirement already satisfied: future in /usr/local/lib/python3.6/dist-packages (from torch==1.7.0->torchvision->pyvww) (0.16.0)\n",
            "Requirement already satisfied: six in /usr/local/lib/python3.6/dist-packages (from cycler>=0.10->matplotlib>=2.1.0->pycocotools->pyvww) (1.15.0)\n",
            "Installing collected packages: pyvww\n",
            "Successfully installed pyvww-0.1.1\n"
          ],
          "name": "stdout"
        }
      ]
    },
    {
      "cell_type": "code",
      "metadata": {
        "id": "lBHKLri0bJGm"
      },
      "source": [
        "from pyvww.utils import VisualWakeWords"
      ],
      "execution_count": 34,
      "outputs": []
    },
    {
      "cell_type": "code",
      "metadata": {
        "colab": {
          "base_uri": "https://localhost:8080/"
        },
        "id": "nS6bDDdSbLZC",
        "outputId": "db176f0c-5b49-4840-a411-7fbe10b8d44f"
      },
      "source": [
        "vww = VisualWakeWords(annFile)"
      ],
      "execution_count": 35,
      "outputs": [
        {
          "output_type": "stream",
          "text": [
            "loading annotations into memory...\n",
            "Done (t=5.85s)\n",
            "creating index...\n",
            "index created!\n"
          ],
          "name": "stdout"
        }
      ]
    },
    {
      "cell_type": "code",
      "metadata": {
        "colab": {
          "base_uri": "https://localhost:8080/"
        },
        "id": "GzLdBD_jbNx0",
        "outputId": "239017d6-8b86-4b5f-b094-09c5c3db3853"
      },
      "source": [
        "print(\"Category Id {}\".format(vww.getCatIds()))"
      ],
      "execution_count": 36,
      "outputs": [
        {
          "output_type": "stream",
          "text": [
            "Category Id [0, 1]\n"
          ],
          "name": "stdout"
        }
      ]
    },
    {
      "cell_type": "code",
      "metadata": {
        "colab": {
          "base_uri": "https://localhost:8080/"
        },
        "id": "xS7lddhUbSZY",
        "outputId": "16aa272f-cd7a-49c3-cb42-fc15d41ea3a4"
      },
      "source": [
        "cats = vww.loadCats(vww.getCatIds())\n",
        "\n",
        "print(\"Categories {}\".format(cats))"
      ],
      "execution_count": 37,
      "outputs": [
        {
          "output_type": "stream",
          "text": [
            "Categories [{'supercategory': 'background', 'id': 0, 'name': 'not-person'}, {'supercategory': 'person', 'id': 1, 'name': 'person'}]\n"
          ],
          "name": "stdout"
        }
      ]
    },
    {
      "cell_type": "code",
      "metadata": {
        "colab": {
          "base_uri": "https://localhost:8080/"
        },
        "id": "lDgDM0bvbXqQ",
        "outputId": "a90d0e2b-b5b9-4e29-cd7d-b3b97d8ce9fc"
      },
      "source": [
        "nms=[cat['name'] for cat in cats]\n",
        "print('Visual Wake Words subcategories: \\n{}\\n'.format(' '.join(nms)))\n",
        "nms = set([cat['supercategory'] for cat in cats])\n",
        "print('Visual Wake Words supercategories: \\n{}'.format(' '.join(nms)))"
      ],
      "execution_count": 38,
      "outputs": [
        {
          "output_type": "stream",
          "text": [
            "Visual Wake Words subcategories: \n",
            "not-person person\n",
            "\n",
            "Visual Wake Words supercategories: \n",
            "person background\n"
          ],
          "name": "stdout"
        }
      ]
    },
    {
      "cell_type": "code",
      "metadata": {
        "colab": {
          "base_uri": "https://localhost:8080/"
        },
        "id": "1h4gbhzvbaRi",
        "outputId": "d6bd1882-a07c-4fb3-e10d-047b07e9803e"
      },
      "source": [
        "catIds_person = vww.getCatIds(catNms=['person'])\n",
        "print(catIds_person)"
      ],
      "execution_count": 40,
      "outputs": [
        {
          "output_type": "stream",
          "text": [
            "[1]\n"
          ],
          "name": "stdout"
        }
      ]
    },
    {
      "cell_type": "code",
      "metadata": {
        "colab": {
          "base_uri": "https://localhost:8080/"
        },
        "id": "CFS5SKZbbkzJ",
        "outputId": "cc7a0edd-0138-4287-a9af-3b54692fb2b0"
      },
      "source": [
        "catIds_non_person = vww.getCatIds(catNms=['not-person'])\n",
        "print(catIds_non_person)"
      ],
      "execution_count": 43,
      "outputs": [
        {
          "output_type": "stream",
          "text": [
            "[0]\n"
          ],
          "name": "stdout"
        }
      ]
    },
    {
      "cell_type": "code",
      "metadata": {
        "colab": {
          "base_uri": "https://localhost:8080/"
        },
        "id": "sR--b-a0b7l3",
        "outputId": "a5e3fd06-a4f7-4dda-9b14-757f50e59553"
      },
      "source": [
        "imgIds_person= vww.getImgIds(catIds=catIds_person)\n",
        "print(len(imgIds_person))"
      ],
      "execution_count": 45,
      "outputs": [
        {
          "output_type": "stream",
          "text": [
            "55233\n"
          ],
          "name": "stdout"
        }
      ]
    },
    {
      "cell_type": "code",
      "metadata": {
        "colab": {
          "base_uri": "https://localhost:8080/"
        },
        "id": "tZUEuZq4cDOi",
        "outputId": "9589a697-3b5a-4ee2-9273-471b4a81a80e"
      },
      "source": [
        "imgIds_non_person= vww.getImgIds(catIds=catIds_non_person)\n",
        "print(len(imgIds_non_person))"
      ],
      "execution_count": 46,
      "outputs": [
        {
          "output_type": "stream",
          "text": [
            "0\n"
          ],
          "name": "stdout"
        }
      ]
    },
    {
      "cell_type": "code",
      "metadata": {
        "id": "8b5bqplqcLif"
      },
      "source": [
        ""
      ],
      "execution_count": null,
      "outputs": []
    }
  ]
}